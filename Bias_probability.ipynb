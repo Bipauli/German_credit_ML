{
 "cells": [
  {
   "cell_type": "code",
   "execution_count": 41,
   "metadata": {},
   "outputs": [],
   "source": [
    "import pandas as pd\n",
    "import numpy as np\n",
    "from sklearn.model_selection import train_test_split\n",
    "from sklearn.linear_model import LogisticRegression\n",
    "from sklearn.metrics import accuracy_score\n"
   ]
  },
  {
   "cell_type": "code",
   "execution_count": 42,
   "metadata": {},
   "outputs": [
    {
     "name": "stderr",
     "output_type": "stream",
     "text": [
      "/var/folders/04/3mpn82554dnf94l0ttdmb70h0000gn/T/ipykernel_3992/1329015888.py:15: FutureWarning: ChainedAssignmentError: behaviour will change in pandas 3.0!\n",
      "You are setting values through chained assignment. Currently this works in certain cases, but when using Copy-on-Write (which will become the default behaviour in pandas 3.0) this will never work to update the original DataFrame or Series, because the intermediate object on which we are setting values will behave as a copy.\n",
      "A typical example is when you are setting values in a column of a DataFrame, like:\n",
      "\n",
      "df[\"col\"][row_indexer] = value\n",
      "\n",
      "Use `df.loc[row_indexer, \"col\"] = values` instead, to perform the assignment in a single step and ensure this keeps updating the original `df`.\n",
      "\n",
      "See the caveats in the documentation: https://pandas.pydata.org/pandas-docs/stable/user_guide/indexing.html#returning-a-view-versus-a-copy\n",
      "\n",
      "  data['GoodPayer'][i] = 1\n"
     ]
    }
   ],
   "source": [
    "\n",
    "# Generate synthetic data\n",
    "np.random.seed(0)\n",
    "n_samples = 1000\n",
    "data = pd.DataFrame({\n",
    "    'Sex': np.random.randint(0, 2, n_samples),  # 0: Male, 1: Female\n",
    "    'Age': np.random.randint(18, 65, n_samples),\n",
    "    'Income': np.random.randint(20000, 100000, n_samples),\n",
    "    'Employed': np.random.randint(0, 2, n_samples), # 0: No, 1: Yes\n",
    "    'GoodPayer': np.random.randint(0, 2, n_samples)  # 0: Bad payer, 1: Good payer\n",
    "})\n",
    "\n",
    "# Introduce some bias (example: slightly more women are good payers)\n",
    "for i in range(n_samples):\n",
    "    if data['Sex'][i] == 1 and np.random.rand() < 0.1: # 10% chance for women to become good payers\n",
    "        data['GoodPayer'][i] = 1\n",
    "\n",
    "# Split data\n",
    "X = data.drop('GoodPayer', axis=1)\n",
    "y = data['GoodPayer']\n",
    "X_train, X_test, y_train, y_test = train_test_split(X, y, test_size=0.2, random_state=0)\n",
    "\n"
   ]
  },
  {
   "cell_type": "code",
   "execution_count": 43,
   "metadata": {},
   "outputs": [
    {
     "name": "stdout",
     "output_type": "stream",
     "text": [
      "Model Accuracy: 0.46\n"
     ]
    }
   ],
   "source": [
    "# Train a logistic regression model\n",
    "model = LogisticRegression()\n",
    "model.fit(X_train, y_train)\n",
    "\n",
    "# Evaluate the model\n",
    "y_pred = model.predict(X_test)\n",
    "accuracy = accuracy_score(y_test, y_pred)\n",
    "print(f\"Model Accuracy: {accuracy}\")\n",
    "\n"
   ]
  },
  {
   "cell_type": "code",
   "execution_count": 44,
   "metadata": {},
   "outputs": [],
   "source": [
    "data['predictions'] = model.predict(X)"
   ]
  },
  {
   "cell_type": "code",
   "execution_count": 45,
   "metadata": {},
   "outputs": [
    {
     "name": "stdout",
     "output_type": "stream",
     "text": [
      "Pr{Ŷ = 1 | A = 0, Y = 1}: 0.421\n",
      "Pr{Ŷ = 1 | A = 1, Y = 1}: 0.480\n",
      "\n",
      "Probabilities using groupby:\n",
      " Sex\n",
      "0    0.421053\n",
      "1    0.480000\n",
      "Name: Predicted_Y, dtype: float64\n"
     ]
    }
   ],
   "source": [
    "def calculate_conditional_probability(df, sex_value):\n",
    "    \"\"\"Calculates Pr{Ŷ = 1 | A = sex_value, Y = 1}.\"\"\"\n",
    "    subset = df[(df['Sex'] == sex_value) & (df['True_Y'] == 1)]\n",
    "    if subset.empty:\n",
    "        return 0.0  # Handle empty subsets\n",
    "    predicted_ones = subset['Predicted_Y'].sum()\n",
    "    probability = predicted_ones / len(subset)\n",
    "    return probability\n",
    "\n",
    "def calculate_conditional_probabilities_groupby(df):\n",
    "    \"\"\"Calculates all conditional probabilities using groupby and pivot_table.\"\"\"\n",
    "    df_grouped = df[df['True_Y']==1].groupby(['Sex'])['Predicted_Y'].mean()\n",
    "    return df_grouped\n",
    "\n",
    "def calculate_conditional_probabilities_crosstab(df):\n",
    "    \"\"\"Calculates all conditional probabilities using crosstab.\"\"\"\n",
    "    return pd.crosstab(df['Sex'], df['True_Y'], df['Predicted_Y'], aggfunc='mean').loc[:,1]\n",
    "\n",
    "\n",
    "# Calculate and print the conditional probabilities \n",
    "for sex_value in [0, 1]: # adjust [0, 1] according  the values of sex \n",
    "    probability = calculate_conditional_probability(df, sex_value)\n",
    "    print(f\"Pr{{Ŷ = 1 | A = {sex_value}, Y = 1}}: {probability:.3f}\")\n",
    "\n",
    "# Calculate and print the conditional probabilities (groupby and pivot_table)\n",
    "probabilities_groupby = calculate_conditional_probabilities_groupby(df)\n",
    "print(\"\\nProbabilities using groupby:\\n\", probabilities_groupby)\n"
   ]
  }
 ],
 "metadata": {
  "kernelspec": {
   "display_name": "Python 3",
   "language": "python",
   "name": "python3"
  },
  "language_info": {
   "codemirror_mode": {
    "name": "ipython",
    "version": 3
   },
   "file_extension": ".py",
   "mimetype": "text/x-python",
   "name": "python",
   "nbconvert_exporter": "python",
   "pygments_lexer": "ipython3",
   "version": "3.9.6"
  }
 },
 "nbformat": 4,
 "nbformat_minor": 2
}
