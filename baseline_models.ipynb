{
 "cells": [
  {
   "cell_type": "code",
   "execution_count": 648,
   "metadata": {},
   "outputs": [],
   "source": [
    "import numpy as np\n",
    "import pandas as pd\n",
    "from ucimlrepo import fetch_ucirepo \n",
    "import matplotlib.pyplot as plt\n",
    "import seaborn as sns"
   ]
  },
  {
   "cell_type": "markdown",
   "metadata": {},
   "source": [
    "### Load data"
   ]
  },
  {
   "cell_type": "code",
   "execution_count": 649,
   "metadata": {},
   "outputs": [
    {
     "data": {
      "text/html": [
       "<div>\n",
       "<style scoped>\n",
       "    .dataframe tbody tr th:only-of-type {\n",
       "        vertical-align: middle;\n",
       "    }\n",
       "\n",
       "    .dataframe tbody tr th {\n",
       "        vertical-align: top;\n",
       "    }\n",
       "\n",
       "    .dataframe thead th {\n",
       "        text-align: right;\n",
       "    }\n",
       "</style>\n",
       "<table border=\"1\" class=\"dataframe\">\n",
       "  <thead>\n",
       "    <tr style=\"text-align: right;\">\n",
       "      <th></th>\n",
       "      <th>Attribute1</th>\n",
       "      <th>Attribute2</th>\n",
       "      <th>Attribute3</th>\n",
       "      <th>Attribute4</th>\n",
       "      <th>Attribute5</th>\n",
       "      <th>Attribute6</th>\n",
       "      <th>Attribute7</th>\n",
       "      <th>Attribute8</th>\n",
       "      <th>Attribute9</th>\n",
       "      <th>Attribute10</th>\n",
       "      <th>Attribute11</th>\n",
       "      <th>Attribute12</th>\n",
       "      <th>Attribute13</th>\n",
       "      <th>Attribute14</th>\n",
       "      <th>Attribute15</th>\n",
       "      <th>Attribute16</th>\n",
       "      <th>Attribute17</th>\n",
       "      <th>Attribute18</th>\n",
       "      <th>Attribute19</th>\n",
       "      <th>Attribute20</th>\n",
       "    </tr>\n",
       "  </thead>\n",
       "  <tbody>\n",
       "    <tr>\n",
       "      <th>0</th>\n",
       "      <td>A11</td>\n",
       "      <td>6</td>\n",
       "      <td>A34</td>\n",
       "      <td>A43</td>\n",
       "      <td>1169</td>\n",
       "      <td>A65</td>\n",
       "      <td>A75</td>\n",
       "      <td>4</td>\n",
       "      <td>A93</td>\n",
       "      <td>A101</td>\n",
       "      <td>4</td>\n",
       "      <td>A121</td>\n",
       "      <td>67</td>\n",
       "      <td>A143</td>\n",
       "      <td>A152</td>\n",
       "      <td>2</td>\n",
       "      <td>A173</td>\n",
       "      <td>1</td>\n",
       "      <td>A192</td>\n",
       "      <td>A201</td>\n",
       "    </tr>\n",
       "    <tr>\n",
       "      <th>1</th>\n",
       "      <td>A12</td>\n",
       "      <td>48</td>\n",
       "      <td>A32</td>\n",
       "      <td>A43</td>\n",
       "      <td>5951</td>\n",
       "      <td>A61</td>\n",
       "      <td>A73</td>\n",
       "      <td>2</td>\n",
       "      <td>A92</td>\n",
       "      <td>A101</td>\n",
       "      <td>2</td>\n",
       "      <td>A121</td>\n",
       "      <td>22</td>\n",
       "      <td>A143</td>\n",
       "      <td>A152</td>\n",
       "      <td>1</td>\n",
       "      <td>A173</td>\n",
       "      <td>1</td>\n",
       "      <td>A191</td>\n",
       "      <td>A201</td>\n",
       "    </tr>\n",
       "    <tr>\n",
       "      <th>2</th>\n",
       "      <td>A14</td>\n",
       "      <td>12</td>\n",
       "      <td>A34</td>\n",
       "      <td>A46</td>\n",
       "      <td>2096</td>\n",
       "      <td>A61</td>\n",
       "      <td>A74</td>\n",
       "      <td>2</td>\n",
       "      <td>A93</td>\n",
       "      <td>A101</td>\n",
       "      <td>3</td>\n",
       "      <td>A121</td>\n",
       "      <td>49</td>\n",
       "      <td>A143</td>\n",
       "      <td>A152</td>\n",
       "      <td>1</td>\n",
       "      <td>A172</td>\n",
       "      <td>2</td>\n",
       "      <td>A191</td>\n",
       "      <td>A201</td>\n",
       "    </tr>\n",
       "    <tr>\n",
       "      <th>3</th>\n",
       "      <td>A11</td>\n",
       "      <td>42</td>\n",
       "      <td>A32</td>\n",
       "      <td>A42</td>\n",
       "      <td>7882</td>\n",
       "      <td>A61</td>\n",
       "      <td>A74</td>\n",
       "      <td>2</td>\n",
       "      <td>A93</td>\n",
       "      <td>A103</td>\n",
       "      <td>4</td>\n",
       "      <td>A122</td>\n",
       "      <td>45</td>\n",
       "      <td>A143</td>\n",
       "      <td>A153</td>\n",
       "      <td>1</td>\n",
       "      <td>A173</td>\n",
       "      <td>2</td>\n",
       "      <td>A191</td>\n",
       "      <td>A201</td>\n",
       "    </tr>\n",
       "    <tr>\n",
       "      <th>4</th>\n",
       "      <td>A11</td>\n",
       "      <td>24</td>\n",
       "      <td>A33</td>\n",
       "      <td>A40</td>\n",
       "      <td>4870</td>\n",
       "      <td>A61</td>\n",
       "      <td>A73</td>\n",
       "      <td>3</td>\n",
       "      <td>A93</td>\n",
       "      <td>A101</td>\n",
       "      <td>4</td>\n",
       "      <td>A124</td>\n",
       "      <td>53</td>\n",
       "      <td>A143</td>\n",
       "      <td>A153</td>\n",
       "      <td>2</td>\n",
       "      <td>A173</td>\n",
       "      <td>2</td>\n",
       "      <td>A191</td>\n",
       "      <td>A201</td>\n",
       "    </tr>\n",
       "  </tbody>\n",
       "</table>\n",
       "</div>"
      ],
      "text/plain": [
       "  Attribute1  Attribute2 Attribute3 Attribute4  Attribute5 Attribute6  \\\n",
       "0        A11           6        A34        A43        1169        A65   \n",
       "1        A12          48        A32        A43        5951        A61   \n",
       "2        A14          12        A34        A46        2096        A61   \n",
       "3        A11          42        A32        A42        7882        A61   \n",
       "4        A11          24        A33        A40        4870        A61   \n",
       "\n",
       "  Attribute7  Attribute8 Attribute9 Attribute10  Attribute11 Attribute12  \\\n",
       "0        A75           4        A93        A101            4        A121   \n",
       "1        A73           2        A92        A101            2        A121   \n",
       "2        A74           2        A93        A101            3        A121   \n",
       "3        A74           2        A93        A103            4        A122   \n",
       "4        A73           3        A93        A101            4        A124   \n",
       "\n",
       "   Attribute13 Attribute14 Attribute15  Attribute16 Attribute17  Attribute18  \\\n",
       "0           67        A143        A152            2        A173            1   \n",
       "1           22        A143        A152            1        A173            1   \n",
       "2           49        A143        A152            1        A172            2   \n",
       "3           45        A143        A153            1        A173            2   \n",
       "4           53        A143        A153            2        A173            2   \n",
       "\n",
       "  Attribute19 Attribute20  \n",
       "0        A192        A201  \n",
       "1        A191        A201  \n",
       "2        A191        A201  \n",
       "3        A191        A201  \n",
       "4        A191        A201  "
      ]
     },
     "execution_count": 649,
     "metadata": {},
     "output_type": "execute_result"
    }
   ],
   "source": [
    "# fetch dataset \n",
    "statlog_german_credit_data = fetch_ucirepo(id=144) \n",
    "  \n",
    "# data (as pandas dataframes) \n",
    "X = statlog_german_credit_data.data.features \n",
    "y = statlog_german_credit_data.data.targets \n",
    "\n",
    "X.head(5)"
   ]
  },
  {
   "cell_type": "code",
   "execution_count": 650,
   "metadata": {},
   "outputs": [
    {
     "data": {
      "text/html": [
       "<div>\n",
       "<style scoped>\n",
       "    .dataframe tbody tr th:only-of-type {\n",
       "        vertical-align: middle;\n",
       "    }\n",
       "\n",
       "    .dataframe tbody tr th {\n",
       "        vertical-align: top;\n",
       "    }\n",
       "\n",
       "    .dataframe thead th {\n",
       "        text-align: right;\n",
       "    }\n",
       "</style>\n",
       "<table border=\"1\" class=\"dataframe\">\n",
       "  <thead>\n",
       "    <tr style=\"text-align: right;\">\n",
       "      <th></th>\n",
       "      <th>name</th>\n",
       "      <th>role</th>\n",
       "      <th>type</th>\n",
       "      <th>demographic</th>\n",
       "      <th>description</th>\n",
       "      <th>units</th>\n",
       "      <th>missing_values</th>\n",
       "    </tr>\n",
       "  </thead>\n",
       "  <tbody>\n",
       "    <tr>\n",
       "      <th>0</th>\n",
       "      <td>Attribute1</td>\n",
       "      <td>Feature</td>\n",
       "      <td>Categorical</td>\n",
       "      <td>None</td>\n",
       "      <td>Status of existing checking account</td>\n",
       "      <td>None</td>\n",
       "      <td>no</td>\n",
       "    </tr>\n",
       "    <tr>\n",
       "      <th>1</th>\n",
       "      <td>Attribute2</td>\n",
       "      <td>Feature</td>\n",
       "      <td>Integer</td>\n",
       "      <td>None</td>\n",
       "      <td>Duration</td>\n",
       "      <td>months</td>\n",
       "      <td>no</td>\n",
       "    </tr>\n",
       "    <tr>\n",
       "      <th>2</th>\n",
       "      <td>Attribute3</td>\n",
       "      <td>Feature</td>\n",
       "      <td>Categorical</td>\n",
       "      <td>None</td>\n",
       "      <td>Credit history</td>\n",
       "      <td>None</td>\n",
       "      <td>no</td>\n",
       "    </tr>\n",
       "    <tr>\n",
       "      <th>3</th>\n",
       "      <td>Attribute4</td>\n",
       "      <td>Feature</td>\n",
       "      <td>Categorical</td>\n",
       "      <td>None</td>\n",
       "      <td>Purpose</td>\n",
       "      <td>None</td>\n",
       "      <td>no</td>\n",
       "    </tr>\n",
       "    <tr>\n",
       "      <th>4</th>\n",
       "      <td>Attribute5</td>\n",
       "      <td>Feature</td>\n",
       "      <td>Integer</td>\n",
       "      <td>None</td>\n",
       "      <td>Credit amount</td>\n",
       "      <td>None</td>\n",
       "      <td>no</td>\n",
       "    </tr>\n",
       "    <tr>\n",
       "      <th>5</th>\n",
       "      <td>Attribute6</td>\n",
       "      <td>Feature</td>\n",
       "      <td>Categorical</td>\n",
       "      <td>None</td>\n",
       "      <td>Savings account/bonds</td>\n",
       "      <td>None</td>\n",
       "      <td>no</td>\n",
       "    </tr>\n",
       "    <tr>\n",
       "      <th>6</th>\n",
       "      <td>Attribute7</td>\n",
       "      <td>Feature</td>\n",
       "      <td>Categorical</td>\n",
       "      <td>Other</td>\n",
       "      <td>Present employment since</td>\n",
       "      <td>None</td>\n",
       "      <td>no</td>\n",
       "    </tr>\n",
       "    <tr>\n",
       "      <th>7</th>\n",
       "      <td>Attribute8</td>\n",
       "      <td>Feature</td>\n",
       "      <td>Integer</td>\n",
       "      <td>None</td>\n",
       "      <td>Installment rate in percentage of disposable i...</td>\n",
       "      <td>None</td>\n",
       "      <td>no</td>\n",
       "    </tr>\n",
       "    <tr>\n",
       "      <th>8</th>\n",
       "      <td>Attribute9</td>\n",
       "      <td>Feature</td>\n",
       "      <td>Categorical</td>\n",
       "      <td>Marital Status</td>\n",
       "      <td>Personal status and sex</td>\n",
       "      <td>None</td>\n",
       "      <td>no</td>\n",
       "    </tr>\n",
       "    <tr>\n",
       "      <th>9</th>\n",
       "      <td>Attribute10</td>\n",
       "      <td>Feature</td>\n",
       "      <td>Categorical</td>\n",
       "      <td>None</td>\n",
       "      <td>Other debtors / guarantors</td>\n",
       "      <td>None</td>\n",
       "      <td>no</td>\n",
       "    </tr>\n",
       "    <tr>\n",
       "      <th>10</th>\n",
       "      <td>Attribute11</td>\n",
       "      <td>Feature</td>\n",
       "      <td>Integer</td>\n",
       "      <td>None</td>\n",
       "      <td>Present residence since</td>\n",
       "      <td>None</td>\n",
       "      <td>no</td>\n",
       "    </tr>\n",
       "    <tr>\n",
       "      <th>11</th>\n",
       "      <td>Attribute12</td>\n",
       "      <td>Feature</td>\n",
       "      <td>Categorical</td>\n",
       "      <td>None</td>\n",
       "      <td>Property</td>\n",
       "      <td>None</td>\n",
       "      <td>no</td>\n",
       "    </tr>\n",
       "    <tr>\n",
       "      <th>12</th>\n",
       "      <td>Attribute13</td>\n",
       "      <td>Feature</td>\n",
       "      <td>Integer</td>\n",
       "      <td>Age</td>\n",
       "      <td>Age</td>\n",
       "      <td>years</td>\n",
       "      <td>no</td>\n",
       "    </tr>\n",
       "    <tr>\n",
       "      <th>13</th>\n",
       "      <td>Attribute14</td>\n",
       "      <td>Feature</td>\n",
       "      <td>Categorical</td>\n",
       "      <td>None</td>\n",
       "      <td>Other installment plans</td>\n",
       "      <td>None</td>\n",
       "      <td>no</td>\n",
       "    </tr>\n",
       "    <tr>\n",
       "      <th>14</th>\n",
       "      <td>Attribute15</td>\n",
       "      <td>Feature</td>\n",
       "      <td>Categorical</td>\n",
       "      <td>Other</td>\n",
       "      <td>Housing</td>\n",
       "      <td>None</td>\n",
       "      <td>no</td>\n",
       "    </tr>\n",
       "    <tr>\n",
       "      <th>15</th>\n",
       "      <td>Attribute16</td>\n",
       "      <td>Feature</td>\n",
       "      <td>Integer</td>\n",
       "      <td>None</td>\n",
       "      <td>Number of existing credits at this bank</td>\n",
       "      <td>None</td>\n",
       "      <td>no</td>\n",
       "    </tr>\n",
       "    <tr>\n",
       "      <th>16</th>\n",
       "      <td>Attribute17</td>\n",
       "      <td>Feature</td>\n",
       "      <td>Categorical</td>\n",
       "      <td>Occupation</td>\n",
       "      <td>Job</td>\n",
       "      <td>None</td>\n",
       "      <td>no</td>\n",
       "    </tr>\n",
       "    <tr>\n",
       "      <th>17</th>\n",
       "      <td>Attribute18</td>\n",
       "      <td>Feature</td>\n",
       "      <td>Integer</td>\n",
       "      <td>None</td>\n",
       "      <td>Number of people being liable to provide maint...</td>\n",
       "      <td>None</td>\n",
       "      <td>no</td>\n",
       "    </tr>\n",
       "    <tr>\n",
       "      <th>18</th>\n",
       "      <td>Attribute19</td>\n",
       "      <td>Feature</td>\n",
       "      <td>Binary</td>\n",
       "      <td>None</td>\n",
       "      <td>Telephone</td>\n",
       "      <td>None</td>\n",
       "      <td>no</td>\n",
       "    </tr>\n",
       "    <tr>\n",
       "      <th>19</th>\n",
       "      <td>Attribute20</td>\n",
       "      <td>Feature</td>\n",
       "      <td>Binary</td>\n",
       "      <td>Other</td>\n",
       "      <td>foreign worker</td>\n",
       "      <td>None</td>\n",
       "      <td>no</td>\n",
       "    </tr>\n",
       "    <tr>\n",
       "      <th>20</th>\n",
       "      <td>class</td>\n",
       "      <td>Target</td>\n",
       "      <td>Binary</td>\n",
       "      <td>None</td>\n",
       "      <td>1 = Good, 2 = Bad</td>\n",
       "      <td>None</td>\n",
       "      <td>no</td>\n",
       "    </tr>\n",
       "  </tbody>\n",
       "</table>\n",
       "</div>"
      ],
      "text/plain": [
       "           name     role         type     demographic  \\\n",
       "0    Attribute1  Feature  Categorical            None   \n",
       "1    Attribute2  Feature      Integer            None   \n",
       "2    Attribute3  Feature  Categorical            None   \n",
       "3    Attribute4  Feature  Categorical            None   \n",
       "4    Attribute5  Feature      Integer            None   \n",
       "5    Attribute6  Feature  Categorical            None   \n",
       "6    Attribute7  Feature  Categorical           Other   \n",
       "7    Attribute8  Feature      Integer            None   \n",
       "8    Attribute9  Feature  Categorical  Marital Status   \n",
       "9   Attribute10  Feature  Categorical            None   \n",
       "10  Attribute11  Feature      Integer            None   \n",
       "11  Attribute12  Feature  Categorical            None   \n",
       "12  Attribute13  Feature      Integer             Age   \n",
       "13  Attribute14  Feature  Categorical            None   \n",
       "14  Attribute15  Feature  Categorical           Other   \n",
       "15  Attribute16  Feature      Integer            None   \n",
       "16  Attribute17  Feature  Categorical      Occupation   \n",
       "17  Attribute18  Feature      Integer            None   \n",
       "18  Attribute19  Feature       Binary            None   \n",
       "19  Attribute20  Feature       Binary           Other   \n",
       "20        class   Target       Binary            None   \n",
       "\n",
       "                                          description   units missing_values  \n",
       "0                 Status of existing checking account    None             no  \n",
       "1                                            Duration  months             no  \n",
       "2                                      Credit history    None             no  \n",
       "3                                             Purpose    None             no  \n",
       "4                                       Credit amount    None             no  \n",
       "5                               Savings account/bonds    None             no  \n",
       "6                            Present employment since    None             no  \n",
       "7   Installment rate in percentage of disposable i...    None             no  \n",
       "8                             Personal status and sex    None             no  \n",
       "9                          Other debtors / guarantors    None             no  \n",
       "10                            Present residence since    None             no  \n",
       "11                                           Property    None             no  \n",
       "12                                                Age   years             no  \n",
       "13                            Other installment plans    None             no  \n",
       "14                                            Housing    None             no  \n",
       "15            Number of existing credits at this bank    None             no  \n",
       "16                                                Job    None             no  \n",
       "17  Number of people being liable to provide maint...    None             no  \n",
       "18                                          Telephone    None             no  \n",
       "19                                     foreign worker    None             no  \n",
       "20                                  1 = Good, 2 = Bad    None             no  "
      ]
     },
     "execution_count": 650,
     "metadata": {},
     "output_type": "execute_result"
    }
   ],
   "source": [
    "# variable information \n",
    "statlog_german_credit_data.variables"
   ]
  },
  {
   "cell_type": "code",
   "execution_count": 651,
   "metadata": {},
   "outputs": [
    {
     "data": {
      "text/html": [
       "<div>\n",
       "<style scoped>\n",
       "    .dataframe tbody tr th:only-of-type {\n",
       "        vertical-align: middle;\n",
       "    }\n",
       "\n",
       "    .dataframe tbody tr th {\n",
       "        vertical-align: top;\n",
       "    }\n",
       "\n",
       "    .dataframe thead th {\n",
       "        text-align: right;\n",
       "    }\n",
       "</style>\n",
       "<table border=\"1\" class=\"dataframe\">\n",
       "  <thead>\n",
       "    <tr style=\"text-align: right;\">\n",
       "      <th></th>\n",
       "      <th>account_status</th>\n",
       "      <th>duration</th>\n",
       "      <th>credit_history</th>\n",
       "      <th>purpose</th>\n",
       "      <th>credit_amount</th>\n",
       "      <th>savings</th>\n",
       "      <th>employment_since</th>\n",
       "      <th>installment_rate</th>\n",
       "      <th>sex</th>\n",
       "      <th>guarantors</th>\n",
       "      <th>residence_since</th>\n",
       "      <th>property</th>\n",
       "      <th>age</th>\n",
       "      <th>other_plans</th>\n",
       "      <th>housing</th>\n",
       "      <th>num_credits</th>\n",
       "      <th>job</th>\n",
       "      <th>num_people_maintenance</th>\n",
       "      <th>telephone</th>\n",
       "      <th>foreign_worker</th>\n",
       "    </tr>\n",
       "  </thead>\n",
       "  <tbody>\n",
       "    <tr>\n",
       "      <th>0</th>\n",
       "      <td>A11</td>\n",
       "      <td>6</td>\n",
       "      <td>A34</td>\n",
       "      <td>A43</td>\n",
       "      <td>1169</td>\n",
       "      <td>A65</td>\n",
       "      <td>A75</td>\n",
       "      <td>4</td>\n",
       "      <td>A93</td>\n",
       "      <td>A101</td>\n",
       "      <td>4</td>\n",
       "      <td>A121</td>\n",
       "      <td>67</td>\n",
       "      <td>A143</td>\n",
       "      <td>A152</td>\n",
       "      <td>2</td>\n",
       "      <td>A173</td>\n",
       "      <td>1</td>\n",
       "      <td>A192</td>\n",
       "      <td>A201</td>\n",
       "    </tr>\n",
       "    <tr>\n",
       "      <th>1</th>\n",
       "      <td>A12</td>\n",
       "      <td>48</td>\n",
       "      <td>A32</td>\n",
       "      <td>A43</td>\n",
       "      <td>5951</td>\n",
       "      <td>A61</td>\n",
       "      <td>A73</td>\n",
       "      <td>2</td>\n",
       "      <td>A92</td>\n",
       "      <td>A101</td>\n",
       "      <td>2</td>\n",
       "      <td>A121</td>\n",
       "      <td>22</td>\n",
       "      <td>A143</td>\n",
       "      <td>A152</td>\n",
       "      <td>1</td>\n",
       "      <td>A173</td>\n",
       "      <td>1</td>\n",
       "      <td>A191</td>\n",
       "      <td>A201</td>\n",
       "    </tr>\n",
       "    <tr>\n",
       "      <th>2</th>\n",
       "      <td>A14</td>\n",
       "      <td>12</td>\n",
       "      <td>A34</td>\n",
       "      <td>A46</td>\n",
       "      <td>2096</td>\n",
       "      <td>A61</td>\n",
       "      <td>A74</td>\n",
       "      <td>2</td>\n",
       "      <td>A93</td>\n",
       "      <td>A101</td>\n",
       "      <td>3</td>\n",
       "      <td>A121</td>\n",
       "      <td>49</td>\n",
       "      <td>A143</td>\n",
       "      <td>A152</td>\n",
       "      <td>1</td>\n",
       "      <td>A172</td>\n",
       "      <td>2</td>\n",
       "      <td>A191</td>\n",
       "      <td>A201</td>\n",
       "    </tr>\n",
       "    <tr>\n",
       "      <th>3</th>\n",
       "      <td>A11</td>\n",
       "      <td>42</td>\n",
       "      <td>A32</td>\n",
       "      <td>A42</td>\n",
       "      <td>7882</td>\n",
       "      <td>A61</td>\n",
       "      <td>A74</td>\n",
       "      <td>2</td>\n",
       "      <td>A93</td>\n",
       "      <td>A103</td>\n",
       "      <td>4</td>\n",
       "      <td>A122</td>\n",
       "      <td>45</td>\n",
       "      <td>A143</td>\n",
       "      <td>A153</td>\n",
       "      <td>1</td>\n",
       "      <td>A173</td>\n",
       "      <td>2</td>\n",
       "      <td>A191</td>\n",
       "      <td>A201</td>\n",
       "    </tr>\n",
       "    <tr>\n",
       "      <th>4</th>\n",
       "      <td>A11</td>\n",
       "      <td>24</td>\n",
       "      <td>A33</td>\n",
       "      <td>A40</td>\n",
       "      <td>4870</td>\n",
       "      <td>A61</td>\n",
       "      <td>A73</td>\n",
       "      <td>3</td>\n",
       "      <td>A93</td>\n",
       "      <td>A101</td>\n",
       "      <td>4</td>\n",
       "      <td>A124</td>\n",
       "      <td>53</td>\n",
       "      <td>A143</td>\n",
       "      <td>A153</td>\n",
       "      <td>2</td>\n",
       "      <td>A173</td>\n",
       "      <td>2</td>\n",
       "      <td>A191</td>\n",
       "      <td>A201</td>\n",
       "    </tr>\n",
       "  </tbody>\n",
       "</table>\n",
       "</div>"
      ],
      "text/plain": [
       "  account_status  duration credit_history purpose  credit_amount savings  \\\n",
       "0            A11         6            A34     A43           1169     A65   \n",
       "1            A12        48            A32     A43           5951     A61   \n",
       "2            A14        12            A34     A46           2096     A61   \n",
       "3            A11        42            A32     A42           7882     A61   \n",
       "4            A11        24            A33     A40           4870     A61   \n",
       "\n",
       "  employment_since  installment_rate  sex guarantors  residence_since  \\\n",
       "0              A75                 4  A93       A101                4   \n",
       "1              A73                 2  A92       A101                2   \n",
       "2              A74                 2  A93       A101                3   \n",
       "3              A74                 2  A93       A103                4   \n",
       "4              A73                 3  A93       A101                4   \n",
       "\n",
       "  property  age other_plans housing  num_credits   job  \\\n",
       "0     A121   67        A143    A152            2  A173   \n",
       "1     A121   22        A143    A152            1  A173   \n",
       "2     A121   49        A143    A152            1  A172   \n",
       "3     A122   45        A143    A153            1  A173   \n",
       "4     A124   53        A143    A153            2  A173   \n",
       "\n",
       "   num_people_maintenance telephone foreign_worker  \n",
       "0                       1      A192           A201  \n",
       "1                       1      A191           A201  \n",
       "2                       2      A191           A201  \n",
       "3                       2      A191           A201  \n",
       "4                       2      A191           A201  "
      ]
     },
     "execution_count": 651,
     "metadata": {},
     "output_type": "execute_result"
    }
   ],
   "source": [
    "X.columns = ['account_status', 'duration', 'credit_history', 'purpose', 'credit_amount', \n",
    "         'savings', 'employment_since', 'installment_rate', 'sex', 'guarantors', \n",
    "         'residence_since', 'property', 'age', 'other_plans', 'housing', \n",
    "         'num_credits', 'job', 'num_people_maintenance', 'telephone', 'foreign_worker']\n",
    "X.head()"
   ]
  },
  {
   "cell_type": "markdown",
   "metadata": {},
   "source": [
    "### Feature engineering"
   ]
  },
  {
   "cell_type": "markdown",
   "metadata": {},
   "source": [
    "`account_status` : (qualitative)  - Status of existing checking account \n",
    "* A11 :      ... <    0 DM\n",
    "* A12 : 0 <= ... <  200 DM\n",
    "* A13 :      ... >= 200 DM / salary assignments for at least 1 year\n",
    "* A14 : no checking account"
   ]
  },
  {
   "cell_type": "code",
   "execution_count": 652,
   "metadata": {},
   "outputs": [
    {
     "name": "stderr",
     "output_type": "stream",
     "text": [
      "C:\\Users\\lujul\\AppData\\Local\\Temp\\ipykernel_11968\\550283357.py:6: SettingWithCopyWarning: \n",
      "A value is trying to be set on a copy of a slice from a DataFrame.\n",
      "Try using .loc[row_indexer,col_indexer] = value instead\n",
      "\n",
      "See the caveats in the documentation: https://pandas.pydata.org/pandas-docs/stable/user_guide/indexing.html#returning-a-view-versus-a-copy\n",
      "  X.loc[:, 'account_status'] = X['account_status'].replace(mapping)\n"
     ]
    }
   ],
   "source": [
    "# Regroup A12 and A13\n",
    "mapping = {'A11': 'overdrawn',\n",
    "           'A12': 'stable balance',\n",
    "           'A13': 'stable balance',\n",
    "           'A14': 'no account'}\n",
    "X.loc[:, 'account_status'] = X['account_status'].replace(mapping)"
   ]
  },
  {
   "cell_type": "markdown",
   "metadata": {},
   "source": [
    "`credit_history` :  (qualitative) \n",
    "* A30 : no credits taken/ all credits paid back duly\n",
    "* A31 : all credits at this bank paid back duly\n",
    "* A32 : existing credits paid back duly till now\n",
    "* A33 : delay in paying off in the past\n",
    "* A34 : critical account/  other credits existing (not at this bank)"
   ]
  },
  {
   "cell_type": "code",
   "execution_count": 653,
   "metadata": {},
   "outputs": [
    {
     "name": "stderr",
     "output_type": "stream",
     "text": [
      "C:\\Users\\lujul\\AppData\\Local\\Temp\\ipykernel_11968\\2338311049.py:7: SettingWithCopyWarning: \n",
      "A value is trying to be set on a copy of a slice from a DataFrame.\n",
      "Try using .loc[row_indexer,col_indexer] = value instead\n",
      "\n",
      "See the caveats in the documentation: https://pandas.pydata.org/pandas-docs/stable/user_guide/indexing.html#returning-a-view-versus-a-copy\n",
      "  X.loc[:, 'credit_history'] = X['credit_history'].replace(mapping)\n"
     ]
    }
   ],
   "source": [
    "# Regroup A30 and A31 into 'good', A33and A34 into 'bad'\n",
    "mapping = {'A30': 'good',\n",
    "           'A31': 'good',\n",
    "           'A33': 'bad',\n",
    "           'A34': 'bad',\n",
    "           'A32': 'being repaid'}\n",
    "X.loc[:, 'credit_history'] = X['credit_history'].replace(mapping)"
   ]
  },
  {
   "cell_type": "markdown",
   "metadata": {},
   "source": [
    "`purpose` :  (qualitative) \n",
    "* A40 : car (new)\n",
    "* A41 : car (used)\n",
    "* A42 : furniture/equipment\n",
    "* A43 : radio/television\n",
    "* A44 : domestic appliances\n",
    "* A45 : repairs\n",
    "* A46 : education\n",
    "* A47 : (vacation - does not exist?)\n",
    "* A48 : retraining\n",
    "* A49 : business\n",
    "* A410 : others"
   ]
  },
  {
   "cell_type": "code",
   "execution_count": 654,
   "metadata": {},
   "outputs": [
    {
     "name": "stderr",
     "output_type": "stream",
     "text": [
      "C:\\Users\\lujul\\AppData\\Local\\Temp\\ipykernel_11968\\2471138740.py:14: SettingWithCopyWarning: \n",
      "A value is trying to be set on a copy of a slice from a DataFrame.\n",
      "Try using .loc[row_indexer,col_indexer] = value instead\n",
      "\n",
      "See the caveats in the documentation: https://pandas.pydata.org/pandas-docs/stable/user_guide/indexing.html#returning-a-view-versus-a-copy\n",
      "  X.loc[:, 'purpose'] = X['purpose'].replace(mapping)\n"
     ]
    }
   ],
   "source": [
    "# Regroup into 6 categories\n",
    "mapping = {'A40': 'car',\n",
    "            'A41': 'car',\n",
    "            'A42': 'domestic equipment',\n",
    "            'A43': 'domestic equipment',\n",
    "            'A44': 'domestic equipment',\n",
    "            'A45': 'repairs',\n",
    "            'A46': 'education',\n",
    "            'A48': 'education',\n",
    "            'A49': 'business',\n",
    "            'A410': 'others'\n",
    "            }\n",
    "\n",
    "X.loc[:, 'purpose'] = X['purpose'].replace(mapping)"
   ]
  },
  {
   "cell_type": "markdown",
   "metadata": {},
   "source": [
    "`savings` :  (qualitative) -  Savings account/bonds\n",
    "* A61 :          ... <  100 DM\n",
    "* A62 :   100 <= ... <  500 DM\n",
    "* A63 :   500 <= ... < 1000 DM\n",
    "* A64 :          .. >= 1000 DM\n",
    "* A65 :   unknown/ no savings account"
   ]
  },
  {
   "cell_type": "code",
   "execution_count": 655,
   "metadata": {},
   "outputs": [
    {
     "name": "stderr",
     "output_type": "stream",
     "text": [
      "C:\\Users\\lujul\\AppData\\Local\\Temp\\ipykernel_11968\\2533607124.py:9: SettingWithCopyWarning: \n",
      "A value is trying to be set on a copy of a slice from a DataFrame.\n",
      "Try using .loc[row_indexer,col_indexer] = value instead\n",
      "\n",
      "See the caveats in the documentation: https://pandas.pydata.org/pandas-docs/stable/user_guide/indexing.html#returning-a-view-versus-a-copy\n",
      "  X.loc[:, 'savings'] = X['savings'].replace(mapping)\n"
     ]
    }
   ],
   "source": [
    "# Regroup into 4 categories\n",
    "mapping = {'A61': 'little',\n",
    "           'A62': 'moderate',\n",
    "           'A63': 'moderate',\n",
    "           'A64': 'rich',\n",
    "           'A65': 'NA'\n",
    "            }\n",
    "\n",
    "X.loc[:, 'savings'] = X['savings'].replace(mapping)"
   ]
  },
  {
   "cell_type": "markdown",
   "metadata": {},
   "source": [
    "`employment_since` :  (qualitative) -   Present employment since\n",
    "* A71 : unemployed\n",
    "* A72 :       ... < 1 year\n",
    "* A73 : 1  <= ... < 4 years  \n",
    "* A74 : 4  <= ... < 7 years\n",
    "* A75 :       .. >= 7 years"
   ]
  },
  {
   "cell_type": "code",
   "execution_count": 656,
   "metadata": {},
   "outputs": [
    {
     "name": "stderr",
     "output_type": "stream",
     "text": [
      "C:\\Users\\lujul\\AppData\\Local\\Temp\\ipykernel_11968\\2844746709.py:9: SettingWithCopyWarning: \n",
      "A value is trying to be set on a copy of a slice from a DataFrame.\n",
      "Try using .loc[row_indexer,col_indexer] = value instead\n",
      "\n",
      "See the caveats in the documentation: https://pandas.pydata.org/pandas-docs/stable/user_guide/indexing.html#returning-a-view-versus-a-copy\n",
      "  X.loc[:, 'employment_since'] = X['employment_since'].replace(mapping)\n"
     ]
    }
   ],
   "source": [
    "# Regroup into 3 categories\n",
    "mapping = {'A71': 'unemployed',\n",
    "           'A72': 'recent position',\n",
    "           'A73': 'recent position',\n",
    "           'A74': 'long-term position',\n",
    "           'A75': 'long-term position'\n",
    "            }\n",
    "\n",
    "X.loc[:, 'employment_since'] = X['employment_since'].replace(mapping)"
   ]
  },
  {
   "cell_type": "markdown",
   "metadata": {},
   "source": [
    "`sex` :  (qualitative)  -  Personal status and sex\n",
    "* A91 : male   : divorced/separated\n",
    "* A92 : female : divorced/separated/married\n",
    "* A93 : male   : single\n",
    "* A94 : male   : married/widowed\n",
    "* A95 : female : single"
   ]
  },
  {
   "cell_type": "code",
   "execution_count": 657,
   "metadata": {},
   "outputs": [
    {
     "name": "stderr",
     "output_type": "stream",
     "text": [
      "C:\\Users\\lujul\\AppData\\Local\\Temp\\ipykernel_11968\\156132572.py:9: SettingWithCopyWarning: \n",
      "A value is trying to be set on a copy of a slice from a DataFrame.\n",
      "Try using .loc[row_indexer,col_indexer] = value instead\n",
      "\n",
      "See the caveats in the documentation: https://pandas.pydata.org/pandas-docs/stable/user_guide/indexing.html#returning-a-view-versus-a-copy\n",
      "  X.loc[:, 'sex'] = X['sex'].replace(mapping)\n"
     ]
    }
   ],
   "source": [
    "# Regroup into 6 categories\n",
    "mapping = { 'A91': 'male',\n",
    "            'A93': 'male',\n",
    "            'A94': 'male',\n",
    "            'A92': 'female',\n",
    "            'A95': 'female'\n",
    "            }\n",
    "\n",
    "X.loc[:, 'sex'] = X['sex'].replace(mapping)"
   ]
  },
  {
   "cell_type": "markdown",
   "metadata": {},
   "source": [
    "`guarantors` : (qualitative)  -  Other debtors / guarantors\n",
    "* A101 : none\n",
    "* A102 : co-applicant\n",
    "* A103 : guarantor"
   ]
  },
  {
   "cell_type": "code",
   "execution_count": 658,
   "metadata": {},
   "outputs": [
    {
     "name": "stderr",
     "output_type": "stream",
     "text": [
      "C:\\Users\\lujul\\AppData\\Local\\Temp\\ipykernel_11968\\3152949601.py:7: SettingWithCopyWarning: \n",
      "A value is trying to be set on a copy of a slice from a DataFrame.\n",
      "Try using .loc[row_indexer,col_indexer] = value instead\n",
      "\n",
      "See the caveats in the documentation: https://pandas.pydata.org/pandas-docs/stable/user_guide/indexing.html#returning-a-view-versus-a-copy\n",
      "  X.loc[:, 'guarantors'] = X['guarantors'].replace(mapping)\n"
     ]
    }
   ],
   "source": [
    "# categories didn't change but for better readability\n",
    "mapping = {'A101': 'none',\n",
    "           'A102': 'co-applicant',\n",
    "           'A103': 'guarantor'\n",
    "           }\n",
    "\n",
    "X.loc[:, 'guarantors'] = X['guarantors'].replace(mapping)"
   ]
  },
  {
   "cell_type": "markdown",
   "metadata": {},
   "source": [
    "`housing` : (qualitative) \n",
    "* A151 : rent\n",
    "* A152 : own\n",
    "* A153 : for free"
   ]
  },
  {
   "cell_type": "code",
   "execution_count": 659,
   "metadata": {},
   "outputs": [
    {
     "name": "stderr",
     "output_type": "stream",
     "text": [
      "C:\\Users\\lujul\\AppData\\Local\\Temp\\ipykernel_11968\\1950171109.py:7: SettingWithCopyWarning: \n",
      "A value is trying to be set on a copy of a slice from a DataFrame.\n",
      "Try using .loc[row_indexer,col_indexer] = value instead\n",
      "\n",
      "See the caveats in the documentation: https://pandas.pydata.org/pandas-docs/stable/user_guide/indexing.html#returning-a-view-versus-a-copy\n",
      "  X.loc[:, 'housing'] = X['housing'].replace(mapping)\n"
     ]
    }
   ],
   "source": [
    "# categories didn't change but for better readability\n",
    "mapping = {'A151': 'rent',\n",
    "           'A152': 'own',\n",
    "           'A153': 'for free'\n",
    "           }\n",
    "\n",
    "X.loc[:, 'housing'] = X['housing'].replace(mapping)"
   ]
  },
  {
   "cell_type": "markdown",
   "metadata": {},
   "source": [
    "`job` : (qualitative) \n",
    "* A171 : unemployed/ unskilled  - non-resident\n",
    "* A172 : unskilled - resident\n",
    "* A173 : skilled employee / official\n",
    "* A174 : management/ self-employed/highly qualified employee/ officer"
   ]
  },
  {
   "cell_type": "code",
   "execution_count": 660,
   "metadata": {},
   "outputs": [
    {
     "name": "stderr",
     "output_type": "stream",
     "text": [
      "C:\\Users\\lujul\\AppData\\Local\\Temp\\ipykernel_11968\\1747110305.py:8: SettingWithCopyWarning: \n",
      "A value is trying to be set on a copy of a slice from a DataFrame.\n",
      "Try using .loc[row_indexer,col_indexer] = value instead\n",
      "\n",
      "See the caveats in the documentation: https://pandas.pydata.org/pandas-docs/stable/user_guide/indexing.html#returning-a-view-versus-a-copy\n",
      "  X.loc[:, 'job'] = X['job'].replace(mapping)\n"
     ]
    }
   ],
   "source": [
    "# Regroup into 2 categories\n",
    "mapping = { 'A171': 'unskilled',\n",
    "            'A172': 'unskilled',\n",
    "            'A173': 'skilled',\n",
    "            'A174': 'skilled'\n",
    "            }\n",
    "\n",
    "X.loc[:, 'job'] = X['job'].replace(mapping)"
   ]
  },
  {
   "cell_type": "markdown",
   "metadata": {},
   "source": [
    "We drop attributes 8, 11, 12, 14, 19, 20"
   ]
  },
  {
   "cell_type": "code",
   "execution_count": 661,
   "metadata": {},
   "outputs": [
    {
     "data": {
      "text/html": [
       "<div>\n",
       "<style scoped>\n",
       "    .dataframe tbody tr th:only-of-type {\n",
       "        vertical-align: middle;\n",
       "    }\n",
       "\n",
       "    .dataframe tbody tr th {\n",
       "        vertical-align: top;\n",
       "    }\n",
       "\n",
       "    .dataframe thead th {\n",
       "        text-align: right;\n",
       "    }\n",
       "</style>\n",
       "<table border=\"1\" class=\"dataframe\">\n",
       "  <thead>\n",
       "    <tr style=\"text-align: right;\">\n",
       "      <th></th>\n",
       "      <th>account_status</th>\n",
       "      <th>duration</th>\n",
       "      <th>credit_history</th>\n",
       "      <th>purpose</th>\n",
       "      <th>credit_amount</th>\n",
       "      <th>savings</th>\n",
       "      <th>employment_since</th>\n",
       "      <th>sex</th>\n",
       "      <th>guarantors</th>\n",
       "      <th>age</th>\n",
       "      <th>housing</th>\n",
       "      <th>num_credits</th>\n",
       "      <th>job</th>\n",
       "      <th>num_people_maintenance</th>\n",
       "    </tr>\n",
       "  </thead>\n",
       "  <tbody>\n",
       "    <tr>\n",
       "      <th>0</th>\n",
       "      <td>overdrawn</td>\n",
       "      <td>6</td>\n",
       "      <td>bad</td>\n",
       "      <td>domestic equipment</td>\n",
       "      <td>1169</td>\n",
       "      <td>NA</td>\n",
       "      <td>long-term position</td>\n",
       "      <td>male</td>\n",
       "      <td>none</td>\n",
       "      <td>67</td>\n",
       "      <td>own</td>\n",
       "      <td>2</td>\n",
       "      <td>skilled</td>\n",
       "      <td>1</td>\n",
       "    </tr>\n",
       "    <tr>\n",
       "      <th>1</th>\n",
       "      <td>stable balance</td>\n",
       "      <td>48</td>\n",
       "      <td>being repaid</td>\n",
       "      <td>domestic equipment</td>\n",
       "      <td>5951</td>\n",
       "      <td>little</td>\n",
       "      <td>recent position</td>\n",
       "      <td>female</td>\n",
       "      <td>none</td>\n",
       "      <td>22</td>\n",
       "      <td>own</td>\n",
       "      <td>1</td>\n",
       "      <td>skilled</td>\n",
       "      <td>1</td>\n",
       "    </tr>\n",
       "    <tr>\n",
       "      <th>2</th>\n",
       "      <td>no account</td>\n",
       "      <td>12</td>\n",
       "      <td>bad</td>\n",
       "      <td>education</td>\n",
       "      <td>2096</td>\n",
       "      <td>little</td>\n",
       "      <td>long-term position</td>\n",
       "      <td>male</td>\n",
       "      <td>none</td>\n",
       "      <td>49</td>\n",
       "      <td>own</td>\n",
       "      <td>1</td>\n",
       "      <td>unskilled</td>\n",
       "      <td>2</td>\n",
       "    </tr>\n",
       "    <tr>\n",
       "      <th>3</th>\n",
       "      <td>overdrawn</td>\n",
       "      <td>42</td>\n",
       "      <td>being repaid</td>\n",
       "      <td>domestic equipment</td>\n",
       "      <td>7882</td>\n",
       "      <td>little</td>\n",
       "      <td>long-term position</td>\n",
       "      <td>male</td>\n",
       "      <td>guarantor</td>\n",
       "      <td>45</td>\n",
       "      <td>for free</td>\n",
       "      <td>1</td>\n",
       "      <td>skilled</td>\n",
       "      <td>2</td>\n",
       "    </tr>\n",
       "    <tr>\n",
       "      <th>4</th>\n",
       "      <td>overdrawn</td>\n",
       "      <td>24</td>\n",
       "      <td>bad</td>\n",
       "      <td>car</td>\n",
       "      <td>4870</td>\n",
       "      <td>little</td>\n",
       "      <td>recent position</td>\n",
       "      <td>male</td>\n",
       "      <td>none</td>\n",
       "      <td>53</td>\n",
       "      <td>for free</td>\n",
       "      <td>2</td>\n",
       "      <td>skilled</td>\n",
       "      <td>2</td>\n",
       "    </tr>\n",
       "  </tbody>\n",
       "</table>\n",
       "</div>"
      ],
      "text/plain": [
       "   account_status  duration credit_history             purpose  credit_amount  \\\n",
       "0       overdrawn         6            bad  domestic equipment           1169   \n",
       "1  stable balance        48   being repaid  domestic equipment           5951   \n",
       "2      no account        12            bad           education           2096   \n",
       "3       overdrawn        42   being repaid  domestic equipment           7882   \n",
       "4       overdrawn        24            bad                 car           4870   \n",
       "\n",
       "  savings    employment_since     sex guarantors  age   housing  num_credits  \\\n",
       "0      NA  long-term position    male       none   67       own            2   \n",
       "1  little     recent position  female       none   22       own            1   \n",
       "2  little  long-term position    male       none   49       own            1   \n",
       "3  little  long-term position    male  guarantor   45  for free            1   \n",
       "4  little     recent position    male       none   53  for free            2   \n",
       "\n",
       "         job  num_people_maintenance  \n",
       "0    skilled                       1  \n",
       "1    skilled                       1  \n",
       "2  unskilled                       2  \n",
       "3    skilled                       2  \n",
       "4    skilled                       2  "
      ]
     },
     "execution_count": 661,
     "metadata": {},
     "output_type": "execute_result"
    }
   ],
   "source": [
    "# Drop specified attributes\n",
    "X = X.drop(['installment_rate', 'residence_since', 'property', 'other_plans', 'telephone', 'foreign_worker'], axis=1)\n",
    "X.head()"
   ]
  },
  {
   "cell_type": "markdown",
   "metadata": {},
   "source": [
    "### Data visualization"
   ]
  },
  {
   "cell_type": "code",
   "execution_count": 662,
   "metadata": {},
   "outputs": [
    {
     "data": {
      "image/png": "[encoded data removed]",
      "text/plain": [
       "<Figure size 600x400 with 1 Axes>"
      ]
     },
     "metadata": {},
     "output_type": "display_data"
    }
   ],
   "source": [
    "plt.figure(figsize=(6, 4))\n",
    "sns.countplot(x=pd.Series(np.ravel(y)))\n",
    "plt.title('Distribution of Target Variable')\n",
    "plt.xlabel('Target Class')\n",
    "plt.ylabel('Count')\n",
    "plt.xticks(ticks=[0, 1], labels=[\"Good\", \"Bad\"])\n",
    "plt.show()"
   ]
  },
  {
   "cell_type": "code",
   "execution_count": 663,
   "metadata": {},
   "outputs": [
    {
     "data": {
      "image/png": "[encoded data removed]",
      "text/plain": [
       "<Figure size 1600x800 with 8 Axes>"
      ]
     },
     "metadata": {},
     "output_type": "display_data"
    }
   ],
   "source": [
    "fig, axes = plt.subplots(nrows=2, ncols=4, figsize=(16, 8))\n",
    "axes = axes.flatten()\n",
    "cat_cols = ['account_status', 'credit_history', 'purpose', 'savings', 'employment_since', 'sex', 'housing','job']\n",
    "for i, var in enumerate(cat_cols):\n",
    "    sns.countplot(x=var, data=X, ax=axes[i])\n",
    "    axes[i].tick_params(axis='x', rotation=90) \n",
    "plt.tight_layout()\n",
    "plt.show()"
   ]
  },
  {
   "cell_type": "code",
   "execution_count": 664,
   "metadata": {},
   "outputs": [
    {
     "data": {
      "image/png": "[encoded data removed]",
      "text/plain": [
       "<Figure size 1600x400 with 3 Axes>"
      ]
     },
     "metadata": {},
     "output_type": "display_data"
    }
   ],
   "source": [
    "fig, axes = plt.subplots(nrows=1, ncols=3, figsize=(16, 4))\n",
    "axes = axes.flatten()\n",
    "cont_cols = ['duration', 'age', 'credit_amount']\n",
    "for i, var in enumerate(cont_cols):\n",
    "    sns.histplot(x=var, data=X, ax=axes[i], kde=True)\n",
    "plt.tight_layout()\n",
    "plt.show()"
   ]
  },
  {
   "cell_type": "markdown",
   "metadata": {},
   "source": [
    "#### Transform continuous variables to categorical"
   ]
  },
  {
   "cell_type": "code",
   "execution_count": 665,
   "metadata": {},
   "outputs": [],
   "source": [
    "# Duration\n",
    "category = pd.cut(X['duration'], bins=[0, 12, 24, 36, np.inf], labels=['0-12', '13-24', '25-36', '>36'])\n",
    "X.insert(1, 'duration_cat', category)\n",
    "X = X.drop(['duration'], axis=1)"
   ]
  },
  {
   "cell_type": "code",
   "execution_count": 666,
   "metadata": {},
   "outputs": [],
   "source": [
    "# Age\n",
    "category = pd.cut(X['age'], bins=[0, 25, 30, 35, 40, 50, np.inf], labels=['0-25', '26-30', '31-35', '36-40', '41-50', '>50'])\n",
    "X.insert(9, 'age_group', category)\n",
    "X = X.drop(['age'], axis=1)"
   ]
  },
  {
   "cell_type": "code",
   "execution_count": 667,
   "metadata": {},
   "outputs": [
    {
     "data": {
      "image/png": "[encoded data removed]",
      "text/plain": [
       "<Figure size 1000x400 with 2 Axes>"
      ]
     },
     "metadata": {},
     "output_type": "display_data"
    }
   ],
   "source": [
    "fig, axes = plt.subplots(nrows=1, ncols=2, figsize=(10, 4))\n",
    "axes = axes.flatten()\n",
    "cat_cols = ['duration_cat', 'age_group']\n",
    "for i, var in enumerate(cat_cols):\n",
    "    sns.countplot(x=var, data=X, ax=axes[i])\n",
    "plt.tight_layout()\n",
    "plt.show()"
   ]
  },
  {
   "cell_type": "markdown",
   "metadata": {},
   "source": [
    "### Preprocessing"
   ]
  },
  {
   "cell_type": "markdown",
   "metadata": {},
   "source": [
    "#### Encode categorical variables"
   ]
  },
  {
   "cell_type": "code",
   "execution_count": 668,
   "metadata": {},
   "outputs": [],
   "source": [
    "from sklearn.preprocessing import LabelEncoder\n",
    "\n",
    "X_encoded = X.copy()\n",
    "# Ordinal variables \n",
    "X_encoded['account_status'] = X_encoded['account_status'].map({'overdrawn': 1, 'no account': 2, 'stable balance': 3})\n",
    "X_encoded['credit_history'] = X_encoded['credit_history'].map({'bad': 1, 'being repaid': 2, 'good': 3})\n",
    "X_encoded['savings'] = X_encoded['savings'].map({'NA': 1, 'little':2, 'moderate': 3, 'rich': 4})\n",
    "X_encoded['employment_since'] = X_encoded['employment_since'].map({'unemployed': 1, 'recent position': 2, 'long-term position': 3})\n",
    "X_encoded['job'] = X_encoded['job'].map({'unskilled': 1, 'skilled': 2})\n",
    "X_encoded['duration_cat'] = X_encoded['duration_cat'].map({'0-12': 1, '13-24': 2, '25-36': 3, '>36': 4})\n",
    "X_encoded['age_group'] = X_encoded['age_group'].map({'0-25': 1, '26-30': 2, '31-35': 3, '36-40': 4, '41-50': 5, '>50': 6})\n",
    "\n",
    "# Binary Encoding for the Sex variable\n",
    "label=LabelEncoder()\n",
    "X_encoded['sex']=label.fit_transform(X_encoded['sex'])\n",
    "\n",
    "# One-Hot Encoding for non-ordinal variables\n",
    "X_encoded = pd.get_dummies(X_encoded, columns=['purpose', 'guarantors', 'housing'], drop_first=True)"
   ]
  },
  {
   "cell_type": "markdown",
   "metadata": {},
   "source": [
    "#### Split the dataset"
   ]
  },
  {
   "cell_type": "code",
   "execution_count": 669,
   "metadata": {},
   "outputs": [],
   "source": [
    "from sklearn.model_selection import train_test_split\n",
    "X_train, X_test, y_train, y_test = train_test_split(X_encoded, y, test_size=0.2, random_state=123)"
   ]
  },
  {
   "cell_type": "markdown",
   "metadata": {},
   "source": [
    "#### Scaling"
   ]
  },
  {
   "cell_type": "code",
   "execution_count": 670,
   "metadata": {},
   "outputs": [],
   "source": [
    "from sklearn.preprocessing import StandardScaler\n",
    "scaler = StandardScaler()\n",
    "X_train = scaler.fit_transform(X_train)\n",
    "X_test = scaler.transform(X_test)"
   ]
  },
  {
   "cell_type": "markdown",
   "metadata": {},
   "source": [
    "### Modeling"
   ]
  },
  {
   "cell_type": "code",
   "execution_count": 671,
   "metadata": {},
   "outputs": [],
   "source": [
    "from sklearn.metrics import classification_report, confusion_matrix, accuracy_score, roc_curve, roc_auc_score, auc"
   ]
  },
  {
   "cell_type": "markdown",
   "metadata": {},
   "source": [
    "Cost matrix given (with the dataset)"
   ]
  },
  {
   "cell_type": "code",
   "execution_count": 672,
   "metadata": {},
   "outputs": [],
   "source": [
    "# cost matrix (rows = true classes, columns = predicted classes)\n",
    "cost_matrix = np.array([[0, 1],  # Cost for Good (1)\n",
    "                        [5, 0]]) # Cost for Bad (2)"
   ]
  },
  {
   "cell_type": "markdown",
   "metadata": {},
   "source": [
    "#### Decision Tree"
   ]
  },
  {
   "cell_type": "code",
   "execution_count": 673,
   "metadata": {},
   "outputs": [
    {
     "name": "stdout",
     "output_type": "stream",
     "text": [
      "Accuracy: 0.705\n",
      "Classification Report:\n",
      "               precision    recall  f1-score   support\n",
      "\n",
      "           1       0.81      0.75      0.78       139\n",
      "           2       0.51      0.61      0.56        61\n",
      "\n",
      "    accuracy                           0.70       200\n",
      "   macro avg       0.66      0.68      0.67       200\n",
      "weighted avg       0.72      0.70      0.71       200\n",
      "\n",
      "Confusion Matrix:\n",
      " [[104  35]\n",
      " [ 24  37]]\n",
      "Total Cost of Misclassification: 155\n"
     ]
    }
   ],
   "source": [
    "from sklearn.tree import DecisionTreeClassifier\n",
    "\n",
    "dt = DecisionTreeClassifier(random_state=42)\n",
    "dt.fit(X_train, y_train)\n",
    "y_pred = dt.predict(X_test)\n",
    "\n",
    "# Evaluate model performance\n",
    "print(\"Accuracy:\", accuracy_score(y_test, y_pred))\n",
    "print(\"Classification Report:\\n\", classification_report(y_test, y_pred))\n",
    "conf_matrix = confusion_matrix(y_test, y_pred)\n",
    "print(\"Confusion Matrix:\\n\", conf_matrix)\n",
    "\n",
    "# Calculate the total cost of misclassification using the confusion matrix and cost matrix\n",
    "total_cost = np.sum(conf_matrix * cost_matrix)\n",
    "print(\"Total Cost of Misclassification:\", total_cost)"
   ]
  },
  {
   "cell_type": "markdown",
   "metadata": {},
   "source": [
    "#### RandomForest"
   ]
  },
  {
   "cell_type": "code",
   "execution_count": 674,
   "metadata": {},
   "outputs": [
    {
     "name": "stdout",
     "output_type": "stream",
     "text": [
      "Accuracy: 0.785\n",
      "Classification Report:\n",
      "               precision    recall  f1-score   support\n",
      "\n",
      "           1       0.82      0.88      0.85       139\n",
      "           2       0.68      0.56      0.61        61\n",
      "\n",
      "    accuracy                           0.79       200\n",
      "   macro avg       0.75      0.72      0.73       200\n",
      "weighted avg       0.78      0.79      0.78       200\n",
      "\n",
      "Confusion Matrix:\n",
      " [[123  16]\n",
      " [ 27  34]]\n",
      "Total Cost of Misclassification: 151\n"
     ]
    },
    {
     "name": "stderr",
     "output_type": "stream",
     "text": [
      "C:\\Users\\lujul\\AppData\\Roaming\\Python\\Python311\\site-packages\\sklearn\\base.py:1473: DataConversionWarning: A column-vector y was passed when a 1d array was expected. Please change the shape of y to (n_samples,), for example using ravel().\n",
      "  return fit_method(estimator, *args, **kwargs)\n"
     ]
    }
   ],
   "source": [
    "from sklearn.ensemble import RandomForestClassifier\n",
    "\n",
    "rf = RandomForestClassifier(n_estimators=100, random_state=123) #, class_weight='balanced')\n",
    "rf.fit(X_train, y_train)\n",
    "y_pred = rf.predict(X_test)\n",
    "\n",
    "# Evaluate the model\n",
    "print(\"Accuracy:\", accuracy_score(y_test, y_pred))\n",
    "print(\"Classification Report:\\n\", classification_report(y_test, y_pred))\n",
    "conf_matrix = confusion_matrix(y_test, y_pred)\n",
    "print(\"Confusion Matrix:\\n\", conf_matrix)\n",
    "\n",
    "# Calculate the total cost of misclassification using the confusion matrix and cost matrix\n",
    "total_cost = np.sum(conf_matrix * cost_matrix)\n",
    "\n",
    "print(\"Total Cost of Misclassification:\", total_cost)"
   ]
  },
  {
   "cell_type": "markdown",
   "metadata": {},
   "source": [
    "#### LogisticRegression"
   ]
  },
  {
   "cell_type": "code",
   "execution_count": 675,
   "metadata": {},
   "outputs": [
    {
     "name": "stderr",
     "output_type": "stream",
     "text": [
      "C:\\Users\\lujul\\AppData\\Roaming\\Python\\Python311\\site-packages\\sklearn\\utils\\validation.py:1339: DataConversionWarning: A column-vector y was passed when a 1d array was expected. Please change the shape of y to (n_samples, ), for example using ravel().\n",
      "  y = column_or_1d(y, warn=True)\n"
     ]
    },
    {
     "name": "stdout",
     "output_type": "stream",
     "text": [
      "Accuracy: 0.715\n",
      "Classification Report:\n",
      "               precision    recall  f1-score   support\n",
      "\n",
      "           1       0.75      0.89      0.81       139\n",
      "           2       0.56      0.31      0.40        61\n",
      "\n",
      "    accuracy                           0.71       200\n",
      "   macro avg       0.65      0.60      0.61       200\n",
      "weighted avg       0.69      0.71      0.69       200\n",
      "\n",
      "Confusion Matrix:\n",
      " [[124  15]\n",
      " [ 42  19]]\n",
      "Total Cost of Misclassification: 225\n"
     ]
    }
   ],
   "source": [
    "from sklearn.linear_model import LogisticRegression\n",
    "\n",
    "lr = LogisticRegression(random_state=123)\n",
    "lr.fit(X_train, y_train)\n",
    "y_pred = lr.predict(X_test)\n",
    "\n",
    "# Evaluate model performance\n",
    "print(\"Accuracy:\", accuracy_score(y_test, y_pred))\n",
    "print(\"Classification Report:\\n\", classification_report(y_test, y_pred))\n",
    "conf_matrix = confusion_matrix(y_test, y_pred)\n",
    "print(\"Confusion Matrix:\\n\", conf_matrix)\n",
    "\n",
    "# Calculate the total cost of misclassification using the confusion matrix and cost matrix\n",
    "total_cost = np.sum(conf_matrix * cost_matrix)\n",
    "print(\"Total Cost of Misclassification:\", total_cost)"
   ]
  },
  {
   "cell_type": "markdown",
   "metadata": {},
   "source": [
    "#### XGBoost"
   ]
  },
  {
   "cell_type": "code",
   "execution_count": 676,
   "metadata": {},
   "outputs": [
    {
     "name": "stdout",
     "output_type": "stream",
     "text": [
      "Accuracy: 0.76\n",
      "Classification Report:\n",
      "               precision    recall  f1-score   support\n",
      "\n",
      "           0       0.81      0.86      0.83       139\n",
      "           1       0.62      0.54      0.58        61\n",
      "\n",
      "    accuracy                           0.76       200\n",
      "   macro avg       0.72      0.70      0.71       200\n",
      "weighted avg       0.75      0.76      0.75       200\n",
      "\n",
      "Confusion Matrix:\n",
      " [[119  20]\n",
      " [ 28  33]]\n",
      "Total Cost of Misclassification: 160\n"
     ]
    }
   ],
   "source": [
    "from xgboost import XGBClassifier\n",
    "\n",
    "# Map target labels from [1, 2] to [0, 1]\n",
    "y_train_xgboost = y_train.replace({1: 0, 2: 1})\n",
    "y_test_xgboost = y_test.replace({1: 0, 2: 1})\n",
    "\n",
    "xgb = XGBClassifier(random_state=123)\n",
    "xgb.fit(X_train, y_train_xgboost)\n",
    "y_pred = xgb.predict(X_test)\n",
    "\n",
    "# Evaluate model performance\n",
    "print(\"Accuracy:\", accuracy_score(y_test_xgboost, y_pred))\n",
    "print(\"Classification Report:\\n\", classification_report(y_test_xgboost, y_pred))\n",
    "conf_matrix = confusion_matrix(y_test_xgboost, y_pred)\n",
    "print(\"Confusion Matrix:\\n\", conf_matrix)\n",
    "\n",
    "# Calculate the total cost of misclassification using the confusion matrix and cost matrix\n",
    "total_cost = np.sum(conf_matrix * cost_matrix)\n",
    "print(\"Total Cost of Misclassification:\", total_cost)"
   ]
  }
 ],
 "metadata": {
  "kernelspec": {
   "display_name": "base",
   "language": "python",
   "name": "python3"
  },
  "language_info": {
   "codemirror_mode": {
    "name": "ipython",
    "version": 3
   },
   "file_extension": ".py",
   "mimetype": "text/x-python",
   "name": "python",
   "nbconvert_exporter": "python",
   "pygments_lexer": "ipython3",
   "version": "3.11.4"
  }
 },
 "nbformat": 4,
 "nbformat_minor": 2
}
